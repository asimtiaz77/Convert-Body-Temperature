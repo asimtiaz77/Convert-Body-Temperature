{
 "cells": [
  {
   "cell_type": "code",
   "execution_count": null,
   "id": "ce4ce781",
   "metadata": {},
   "outputs": [
    {
     "name": "stdout",
     "output_type": "stream",
     "text": [
      "Choose the conversion direction:\n",
      "C - Celsius to Fahrenheit\n",
      "F - Fahrenheit to Celsius\n",
      "Enter your choice: C\n",
      "Enter the temperature in Celsius: 36.5\n",
      "36.5 degrees Celsius is equal to 97.7 degrees Fahrenheit.\n",
      "Choose the conversion direction:\n",
      "C - Celsius to Fahrenheit\n",
      "F - Fahrenheit to Celsius\n",
      "Enter your choice: F\n",
      "Enter the temperature in Fahrenheit: 98.6\n",
      "98.6 degrees Fahrenheit is equal to 37.0 degrees Celsius.\n",
      "Choose the conversion direction:\n",
      "C - Celsius to Fahrenheit\n",
      "F - Fahrenheit to Celsius\n"
     ]
    }
   ],
   "source": [
    "def celsius_to_fahrenheit(celsius):\n",
    "    return (celsius * 9/5) + 32\n",
    "\n",
    "def fahrenheit_to_celsius(fahrenheit):\n",
    "    return (fahrenheit - 32) * 5/9\n",
    "\n",
    "while True:\n",
    "    print(\"Choose the conversion direction:\")\n",
    "    print(\"C - Celsius to Fahrenheit\")\n",
    "    print(\"F - Fahrenheit to Celsius\")\n",
    "    choice = input(\"Enter your choice: \")\n",
    "\n",
    "    if choice.lower() == 'c':\n",
    "        celsius = float(input(\"Enter the temperature in Celsius: \"))\n",
    "        fahrenheit = celsius_to_fahrenheit(celsius)\n",
    "        print(f\"{celsius} degrees Celsius is equal to {fahrenheit} degrees Fahrenheit.\")\n",
    "    elif choice.lower() == 'f':\n",
    "        fahrenheit = float(input(\"Enter the temperature in Fahrenheit: \"))\n",
    "        celsius = fahrenheit_to_celsius(fahrenheit)\n",
    "        print(f\"{fahrenheit} degrees Fahrenheit is equal to {celsius} degrees Celsius.\")\n",
    "    else:\n",
    "        print(\"Invalid choice. Please enter 'C' or 'F'.\")"
   ]
  },
  {
   "cell_type": "code",
   "execution_count": null,
   "id": "5db0a189",
   "metadata": {},
   "outputs": [],
   "source": []
  }
 ],
 "metadata": {
  "kernelspec": {
   "display_name": "Python 3 (ipykernel)",
   "language": "python",
   "name": "python3"
  },
  "language_info": {
   "codemirror_mode": {
    "name": "ipython",
    "version": 3
   },
   "file_extension": ".py",
   "mimetype": "text/x-python",
   "name": "python",
   "nbconvert_exporter": "python",
   "pygments_lexer": "ipython3",
   "version": "3.11.4"
  }
 },
 "nbformat": 4,
 "nbformat_minor": 5
}
